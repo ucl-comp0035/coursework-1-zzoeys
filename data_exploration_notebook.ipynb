{
 "cells": [
  {
   "cell_type": "code",
   "execution_count": null,
   "metadata": {},
   "outputs": [],
   "source": [
    "import pandas as pd\n",
    "import matplotlib.pyplot as plt\n",
    "import seaborn as sns"
   ]
  },
  {
   "cell_type": "markdown",
   "metadata": {},
   "source": [
    "Firstly, we define some functions that we will be used throughout the exploration and read the data. Though the column 'Code' may be useful for future data visualisations involving maps of boroughs, it will get in the way of creating graphs for this exploration stage. Thus, a function is created to remove this column."
   ]
  },
  {
   "cell_type": "code",
   "execution_count": null,
   "metadata": {},
   "outputs": [],
   "source": [
    "def clean_data(df):\n",
    "\n",
    "    '''Convert the column names to strings and set the column 'Borough' as the index.'''\n",
    "\n",
    "    df.columns = df.columns.map(str)\n",
    "    df.set_index('Borough', inplace=True)\n",
    "\n",
    "def remove_code(df):\n",
    "\n",
    "    '''Remove the column 'Code'.'''\n",
    "\n",
    "    df.drop(['Code'], axis = 1, inplace = True)\n",
    "\n",
    "# Read and clean sheets on survival rates\n",
    "survivalrates = {}\n",
    "\n",
    "for i in range(2002, 2019):\n",
    "    survivalrates[str(i)] = pd.read_excel('data/prepared_data1.xlsx', sheet_name= str(i) + ' Survival Rates')\n",
    "    clean_data(survivalrates[str(i)])\n",
    "\n",
    "# Read and clean sheet on active enterprises\n",
    "activeenterprises = pd.read_excel('data/prepared_data1.xlsx', sheet_name= 'Active Enterprises by Year')\n",
    "\n",
    "clean_data(activeenterprises)\n",
    "\n",
    "# Read and clean sheet on death rates\n",
    "deathrates = pd.read_excel('data/prepared_data1.xlsx', sheet_name= 'Death Rates in % by Year')\n",
    "\n",
    "clean_data(deathrates)"
   ]
  },
  {
   "cell_type": "markdown",
   "metadata": {},
   "source": [
    "# Basic Statistics and Outliers\n",
    "## Survival Rates\n",
    "As there are multiple sheets with the survival rates of businesses (one for each year), we will first analyse one and assume that the basic statistics of other sheets would be similar.\n"
   ]
  },
  {
   "cell_type": "code",
   "execution_count": null,
   "metadata": {},
   "outputs": [],
   "source": [
    "# Print the dataframe for year 2002 and descriptive statistics about the data\n",
    "print(survivalrates['2002'])\n",
    "print(survivalrates['2002'].describe())"
   ]
  },
  {
   "cell_type": "markdown",
   "metadata": {},
   "source": [
    "From the descriptive statistics, we can see that there are 33 rows, which aligns with our contextual understanding that there are 33 boroughs in London including City of London. It is expected that the mean of each column will decrease because the proportion of businesses started in 2002 that are still alive decreases as we measure longer periods. To get a better visualisation of the data, we will do a simple line graph of the 1, 2, 3, 4 and 5 year survival rates of businesses that started in 2002."
   ]
  },
  {
   "cell_type": "code",
   "execution_count": null,
   "metadata": {},
   "outputs": [],
   "source": [
    "# Remove the column for 'Code' as it is not numeric\n",
    "remove_code(survivalrates['2002'])\n",
    "\n",
    "# Transpose the dataframe so that it can be plotted\n",
    "survivalrates_transposed = survivalrates['2002'].transpose()\n",
    "\n",
    "# Plot the transposed dataframe for all boroughs\n",
    "survivalrates_transposed.plot()\n",
    "plt.title('Survival Rates of Businesses that Started in 2002')\n",
    "plt.xlabel('Survival Rates')\n",
    "plt.ylabel('%')\n",
    "plt.savefig('charts/survival_rates_2002.png')\n"
   ]
  },
  {
   "cell_type": "markdown",
   "metadata": {},
   "source": [
    "From the line graph, we observe that the data aligns with the context. It is also observed that there are no obivous outliers.\n",
    "\n",
    "As this is just exploring the data, the chart is messy. During the data visualisation stage, line graphs for all years for all boroughs will be created. The client would be able to choose the borough and then view the graph for each year in a slideshow feature. This would enable them to see whether there is a steep trend of survival rates, which would shed light on the difficulty of surviving from one year to another."
   ]
  },
  {
   "cell_type": "markdown",
   "metadata": {},
   "source": [
    "## Active Enterprises"
   ]
  },
  {
   "cell_type": "markdown",
   "metadata": {},
   "source": [
    "Next, we will explore the data on the number of active enterprises through the years and identify outliers."
   ]
  },
  {
   "cell_type": "code",
   "execution_count": null,
   "metadata": {},
   "outputs": [],
   "source": [
    "# Print the dataframe\n",
    "print(activeenterprises)"
   ]
  },
  {
   "cell_type": "markdown",
   "metadata": {},
   "source": [
    "From looking at the data, it makes more sense to view the descriptive statistics of the data by borough. This is because the number of active enterprsies varies greatly by borough, but less so throughout the years. Thus, we will transpose the dataframe then view the descriptive statistics."
   ]
  },
  {
   "cell_type": "code",
   "execution_count": null,
   "metadata": {},
   "outputs": [],
   "source": [
    "# Remove the column for 'Code' as it is not numeric\n",
    "remove_code(activeenterprises)\n",
    "\n",
    "# Transpose the dataframe\n",
    "activeenterprises_transposed = activeenterprises.transpose()\n",
    "\n",
    "# Convert the data to int \n",
    "activeenterprises_transposed = activeenterprises_transposed.astype(int)\n",
    "\n",
    "# Print the descriptive statistics of the number of active enterprises\n",
    "print(activeenterprises_transposed.describe())\n"
   ]
  },
  {
   "cell_type": "code",
   "execution_count": null,
   "metadata": {},
   "outputs": [],
   "source": [
    "# Plot the transposed dataframe for all boroughs\n",
    "activeenterprises_transposed.plot()\n",
    "plt.title('Number of Active Enterprises Through the Years')\n",
    "plt.xlabel('Years')\n",
    "plt.ylabel('Numbers')\n",
    "plt.savefig('charts/active_enterprises.png')"
   ]
  },
  {
   "cell_type": "markdown",
   "metadata": {},
   "source": [
    "From the graph, it is observed that during the earlier years there was a decrease in the number of active enterprises in some boroughs. However, generally, there is an increase in the number of active enterprises meaning that birth rates are greater than death rates. There are also no obvious outliers. \n",
    "\n",
    "In the future, individual line graphs will be created for the client to view each one separately. "
   ]
  },
  {
   "cell_type": "markdown",
   "metadata": {},
   "source": [
    "## Death Rates"
   ]
  },
  {
   "cell_type": "markdown",
   "metadata": {},
   "source": [
    "Finally, we will explore the data on the death rates of enterprises through the years and identify outliers."
   ]
  },
  {
   "cell_type": "code",
   "execution_count": null,
   "metadata": {},
   "outputs": [],
   "source": [
    "# Print the dataframe and descriptive statistics about the data\n",
    "print(deathrates)\n",
    "print(deathrates.describe())"
   ]
  },
  {
   "cell_type": "markdown",
   "metadata": {},
   "source": [
    "From briefly looking at the data, the death rates do not seem to vary much between different boroughs and years. To get a better understanding of the data, we will view it in a boxplot."
   ]
  },
  {
   "cell_type": "code",
   "execution_count": null,
   "metadata": {},
   "outputs": [],
   "source": [
    "# Remove the column for 'Code' as it is not numeric\n",
    "remove_code(deathrates)\n",
    "\n",
    "# Plot a boxplot of the deathrates for each year\n",
    "sns.boxplot(data = deathrates)\n",
    "plt.title('Death Rates Through the Years')\n",
    "plt.xlabel('Years')\n",
    "plt.ylabel('%')\n",
    "plt.savefig('charts/boxplot_deathrates.png')\n"
   ]
  },
  {
   "cell_type": "markdown",
   "metadata": {},
   "source": [
    "From the boxplot, several years have outliers, but the year 2019 has more outliers and more extreme outliers. As this dataset is from 2019, it could be that the data for 2019 is not the most accurate. Thus, the data for the year 2019 will be removed."
   ]
  },
  {
   "cell_type": "code",
   "execution_count": null,
   "metadata": {},
   "outputs": [],
   "source": [
    "# Remove the column '2019'\n",
    "deathrates.drop(['2019'], axis = 1, inplace = True)\n",
    "\n",
    "print(deathrates)"
   ]
  },
  {
   "cell_type": "markdown",
   "metadata": {},
   "source": [
    "# Problem 1: Are there any general trends with regard to 5-year survival rates?\n",
    "As we're interested in analysing 5-year survival rates, we will create a dataframe with just that data for multiple years. As the available data is only up to year 2019, there is only data of the 5-year survival rates up to year 2014."
   ]
  },
  {
   "cell_type": "code",
   "execution_count": null,
   "metadata": {},
   "outputs": [],
   "source": [
    "# Create a list and append 'Borough'\n",
    "five_year_survival_rate_list = []\n",
    "five_year_survival_rate_list.append(list(survivalrates['2002'].index))\n",
    "\n",
    "# Append the relevant 5-year survival rates for businesses created in various years\n",
    "for i in range (2002, 2015):\n",
    "    five_year_survival_rate_list.append(list(survivalrates[str(i)]['5 Year Survival in %']))\n",
    "\n",
    "# Transpose and read the dataframe\n",
    "five_year_survival_rate_df = pd.DataFrame(five_year_survival_rate_list).transpose()\n",
    "\n",
    "# Set the column names\n",
    "five_year_survival_rate_df.columns=['Borough', '2002', '2003', '2004', '2005', '2006', '2007', '2008', '2009', '2010', '2011', '2012', '2013', '2014']\n",
    "\n",
    "print(five_year_survival_rate_df)"
   ]
  },
  {
   "cell_type": "markdown",
   "metadata": {},
   "source": [
    "As we have created a new dataframe, we will need to clean the data."
   ]
  },
  {
   "cell_type": "code",
   "execution_count": null,
   "metadata": {},
   "outputs": [],
   "source": [
    "# Clean the data\n",
    "clean_data(five_year_survival_rate_df)\n",
    "\n",
    "# Check if the datatypes are correct\n",
    "print(five_year_survival_rate_df.info(verbose=True))\n",
    "\n",
    "# Convert datatype from object to int\n",
    "five_year_survival_rate_df = five_year_survival_rate_df.astype(float)\n",
    "\n",
    "print(five_year_survival_rate_df)\n"
   ]
  },
  {
   "cell_type": "markdown",
   "metadata": {},
   "source": [
    "Now we will create a box plot to view the spread of the 5-year survival rates for each year to analyse the general trend of these rates, which is one of our business question. It also helps us to find if there are any outliers in the data as previously only the data from year 2002 was analysed. "
   ]
  },
  {
   "cell_type": "code",
   "execution_count": null,
   "metadata": {},
   "outputs": [],
   "source": [
    "# Plot a boxplot of the 5-year survival rates in different years\n",
    "sns.boxplot(data=five_year_survival_rate_df)\n",
    "plt.title('5-Year Survival Rates Through the Years')\n",
    "plt.xlabel('Years')\n",
    "plt.ylabel('%')\n",
    "plt.savefig('charts/boxplot_5-year_survival_rate.png')"
   ]
  },
  {
   "cell_type": "markdown",
   "metadata": {},
   "source": [
    "From the boxplot, we observe that there is no general trend with regard to 5-year survival rates as the interquartile range and median for all years do not vary signicantly. An exception would be the 5-year survival rates for businesses created in 2008, but this could be due to the 2008 financial crisis.\n",
    "\n",
    "We also observe that there are some outliers that were not picked up earlier when only the year 2002 was analysed. To check if these outliers should be removed, we will analyse the extreme outliers in year 2005, 2012, 2013 and 2014."
   ]
  },
  {
   "cell_type": "code",
   "execution_count": null,
   "metadata": {},
   "outputs": [],
   "source": [
    "# Print the data rows with outliers\n",
    "print(five_year_survival_rate_df.loc[five_year_survival_rate_df['2005'] < 25])\n",
    "print(five_year_survival_rate_df.loc[five_year_survival_rate_df['2012'] < 30])\n",
    "print(five_year_survival_rate_df.loc[five_year_survival_rate_df['2013'] < 30])\n",
    "print(five_year_survival_rate_df.loc[five_year_survival_rate_df['2014'] < 30])"
   ]
  },
  {
   "cell_type": "markdown",
   "metadata": {},
   "source": [
    "To analyse this further, it would be good to plot the other survival rates of these boroughs during the year."
   ]
  },
  {
   "cell_type": "code",
   "execution_count": null,
   "metadata": {},
   "outputs": [],
   "source": [
    "# Remove the column for 'Code' as it is not numeric\n",
    "for year in [2005, 2012, 2013, 2014]:\n",
    "    remove_code(survivalrates[str(year)])\n",
    "\n",
    "# Plot the outliers\n",
    "survivalrates['2005'].loc['Newham'].plot(label = 'Newham in 2005')\n",
    "survivalrates['2012'].loc['Lambeth'].plot(label = 'Lambeth in 2012')\n",
    "survivalrates['2013'].loc['Lambeth'].plot(label = 'Lambeth in 2013')\n",
    "survivalrates['2014'].loc['Lambeth'].plot(label = 'Lambeth in 2014')\n",
    "plt.title('Survival Rates for Outliers')\n",
    "plt.xlabel('Survival Rates')\n",
    "plt.ylabel('%')\n",
    "plt.legend()\n",
    "plt.savefig('charts/survival_rates_outliers.png')"
   ]
  },
  {
   "cell_type": "markdown",
   "metadata": {},
   "source": [
    "As there doesn't seem to be anything wrong with the data, it could be that the data are just extreme values. Thus the outliers will not be removed and we can still conclude that there is no general trend regarding 5-year survival rates."
   ]
  },
  {
   "cell_type": "markdown",
   "metadata": {},
   "source": [
    "# Problem 2: Which borough has the best 5-year survival rate?\n",
    "\n",
    "As we are trying to find the borough with the best 5-year survival rate, we will calculate the average 5-year survival rate for each borough. We will also save this dataframe with a new column with the averages as a new Excel file for future use."
   ]
  },
  {
   "cell_type": "code",
   "execution_count": null,
   "metadata": {},
   "outputs": [],
   "source": [
    "# Add a column with the average 5-year survival rate in each borough\n",
    "five_year_survival_rate_df['mean'] = five_year_survival_rate_df.iloc[:, 1:14].mean(axis=1)\n",
    "\n",
    "# Round the averages to one decimal place\n",
    "five_year_survival_rate_df['mean'] = five_year_survival_rate_df['mean'].round(decimals = 1)\n",
    "\n",
    "# Create a new Excel file\n",
    "with pd.ExcelWriter('data/prepared_data2.xlsx') as writer:  \n",
    "    five_year_survival_rate_df.to_excel(writer, sheet_name='5-Year Survival Rates')"
   ]
  },
  {
   "cell_type": "markdown",
   "metadata": {},
   "source": [
    "To see the averages of all boroughs and identify the one with the highest average, we will view this data on a barchart."
   ]
  },
  {
   "cell_type": "code",
   "execution_count": null,
   "metadata": {},
   "outputs": [],
   "source": [
    "# Plot a bar graph with the 5-year survival rate average for each borough\n",
    "five_year_survival_rate_df.sort_values('mean', ascending = False)['mean'].plot.bar()\n",
    "plt.title('Average 5-Year Survival Rates')\n",
    "plt.xlabel('Borough')\n",
    "plt.ylabel('%')\n",
    "plt.savefig('charts/bargraph_ave_5-year_survival_rate.png')\n",
    "\n",
    "# Identify the borough with the highest average 5-year survival rate\n",
    "max = five_year_survival_rate_df['mean'].idxmax()\n",
    "print('The borough with the highest average 5-year survival rate is ' + str(max) + ' with a survival rate of ' + str(five_year_survival_rate_df['mean'].max()) + '%')"
   ]
  },
  {
   "cell_type": "markdown",
   "metadata": {},
   "source": [
    "Thus, we identify that Sutton has the highest 5-year survival rate based on past data. Based on just this data alone, Sutton seems to be a good place to start a business as it is where the largest proportion of businesses survive for 5 years or longer."
   ]
  },
  {
   "cell_type": "markdown",
   "metadata": {},
   "source": [
    "# Problem 3: Which boroughs have the highest economic activity, indicated by the number of active enterprises?\n",
    "\n",
    "Next, we will look at the number of active enterprises in each borough. To get a better idea of the current economic situtation in each borough, we will use data from the most recent year available in the dataset (year 2019), to find the borough with the highest number of active enterprises."
   ]
  },
  {
   "cell_type": "code",
   "execution_count": null,
   "metadata": {},
   "outputs": [],
   "source": [
    "# Plot a bar graph of with the number of active enterprises in each borough in 2019\n",
    "activeenterprises.sort_values('2019', ascending = False)['2019'].plot.bar()\n",
    "plt.title('Number of Active Enterprises in 2019')\n",
    "plt.xlabel('Borough')\n",
    "plt.ylabel('Number')\n",
    "plt.savefig('charts/bargraph_active_enterprises_2019.png')\n",
    "\n",
    "# Identify the borough with the highest number of active enterprises in 2019\n",
    "max = activeenterprises['2019'].idxmax()\n",
    "print('The borough with the highest number of active enterprises in 2019 is ' + str(max) + ' with ' + str(activeenterprises['2019'].max()) + ' enterprises.')"
   ]
  },
  {
   "cell_type": "markdown",
   "metadata": {},
   "source": [
    "Thus, we observe that the boroughs with the highest number of active enterprises are Westminister, Camden, City of London and Barnet. This offers insight on the economic activity of these areas, which reflects the accessibility of resources available for business to survive and grow in these areas."
   ]
  },
  {
   "cell_type": "markdown",
   "metadata": {},
   "source": [
    "# Problem 4: Which boroughs have the lowest death rates?\n",
    "Finally, we will look at the average death rates. As we observed during the data exploration, death rates don't vary much year on year so we will take the averages of the years available to find the boroughs with the lowest death rates. As we have previously removed the outliers from the data and are calculating a new column for averages, we will also add this new dataframe to the Excel file so that it can be used in the future as well."
   ]
  },
  {
   "cell_type": "code",
   "execution_count": null,
   "metadata": {},
   "outputs": [],
   "source": [
    "# Add a column with the average death rate in each borough\n",
    "deathrates['mean'] = deathrates.iloc[:, 1:16].mean(axis = 1)\n",
    "\n",
    "# Round the averages to one decimal place\n",
    "deathrates['mean'] = deathrates['mean'].round(decimals = 1)\n",
    "\n",
    "# Add the new dataframe without outliers and with a column with the averages\n",
    "with pd.ExcelWriter('data/prepared_data2.xlsx',\n",
    "                    mode = 'a', engine='openpyxl') as writer:  \n",
    "    deathrates.to_excel(writer, sheet_name='New Death Rates in % by Year')"
   ]
  },
  {
   "cell_type": "markdown",
   "metadata": {},
   "source": [
    "To better compare the deathrates of all boroughs, we will plot a bar graph."
   ]
  },
  {
   "cell_type": "code",
   "execution_count": null,
   "metadata": {},
   "outputs": [],
   "source": [
    "# Plot a bar graph of death rate averages for each borough\n",
    "deathrates.sort_values('mean', ascending = True)['mean'].plot.bar()\n",
    "plt.title('Average Death Rates')\n",
    "plt.xlabel('Borough')\n",
    "plt.ylabel('%')\n",
    "plt.savefig('charts/bargraph_ave_deathrates.png')\n",
    "\n",
    "# Identify the borough with the lowest average death rate\n",
    "min = deathrates['mean'].idxmin()\n",
    "print('The borough with the lowest average death rate is ' + str(min) + ' with a death rate of ' + str(deathrates['mean'].min()) + '%')"
   ]
  },
  {
   "cell_type": "markdown",
   "metadata": {},
   "source": [
    "From the graph, it is observed that Richmond and Thames, Kensington and Chelsea, Bromley and Sutton have the lowest death rates. This allows us to identify that these areas have fewer enterprise deaths, which means that businesses started there are less likely to die. This offers insight on whether it would be a good idea to start a business there."
   ]
  },
  {
   "cell_type": "markdown",
   "metadata": {},
   "source": [
    "# Conclusion\n",
    "Though Sutton was identified to have the largest proportion of businesses surviving for five years or more, it has the second-smallest number of active enterprises. Though businesses have a higher survivability rate in Sutton, it may not be the best place to start a business as the economic activity of the area might be lower. Thus, it is important to analyse the different factors of survival rate, number of active enterprises and death rates together.\n",
    "\n",
    "To better understand the economic situation of each borough, the data on the number of active enterprises and death rates should be visualised together on a multivariate map. This is to get a better idea of the boroughs with a high number of active enterprises and a low death rate. This data can then be compared with the average 5-year survival rates, so that a suitable borough that offers the client's business to have the best chance of long-term survival can be chosen.\n",
    "\n",
    "In conclusion, the data in this dataset is sufficient to provide thoughtful insight to answer the question: ' Which borough in London is the best place to start a business?'."
   ]
  }
 ],
 "metadata": {
  "interpreter": {
   "hash": "40d3a090f54c6569ab1632332b64b2c03c39dcf918b08424e98f38b5ae0af88f"
  },
  "kernelspec": {
   "display_name": "Python 3.8.5 64-bit ('base': conda)",
   "language": "python",
   "name": "python3"
  },
  "language_info": {
   "codemirror_mode": {
    "name": "ipython",
    "version": 3
   },
   "file_extension": ".py",
   "mimetype": "text/x-python",
   "name": "python",
   "nbconvert_exporter": "python",
   "pygments_lexer": "ipython3",
   "version": "3.8.5"
  },
  "orig_nbformat": 4
 },
 "nbformat": 4,
 "nbformat_minor": 2
}
