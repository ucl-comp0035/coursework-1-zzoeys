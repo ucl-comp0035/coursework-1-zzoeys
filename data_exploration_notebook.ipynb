{
 "cells": [
  {
   "cell_type": "code",
   "execution_count": null,
   "metadata": {},
   "outputs": [],
   "source": [
    "import pandas as pd\n",
    "import matplotlib.pyplot as plt\n",
    "import seaborn as sns"
   ]
  },
  {
   "cell_type": "code",
   "execution_count": 88,
   "metadata": {},
   "outputs": [],
   "source": [
    "def clean_data(df):\n",
    "\n",
    "    '''\n",
    "    Convert the column names to strings and set the column 'Area' as the index\n",
    "    \n",
    "    '''\n",
    "\n",
    "    df.columns = df.columns.map(str)\n",
    "    df.set_index('Area', inplace=True)\n",
    "\n",
    "survivalrates = {}\n",
    "\n",
    "# Read and clean sheets on survival rates\n",
    "for i in range(2002, 2019):\n",
    "    survivalrates[str(i)] = pd.read_excel('data/prepared_data.xlsx', sheet_name= str(i) + ' Survival Rates')\n",
    "    clean_data(survivalrates[str(i)])\n",
    "\n",
    "# Read and clean sheets on active enterprises\n",
    "activeenterprises = pd.read_excel('data/prepared_data.xlsx', sheet_name= 'Active Enterprises by Year')\n",
    "clean_data(activeenterprises)\n",
    "\n",
    "# Read and clean sheets on death rates\n",
    "deathrates = pd.read_excel('data/prepared_data.xlsx', sheet_name= 'Death Rates in % by Year')\n",
    "clean_data(deathrates)"
   ]
  },
  {
   "cell_type": "markdown",
   "metadata": {},
   "source": [
    "# Basic Statistics\n",
    "## Survival Rates\n",
    "As there is a sheet for the survival rates of businesses created in each year for multiple years, we will analyse one and assume that the basic statistics of other sheets would be similar.\n"
   ]
  },
  {
   "cell_type": "code",
   "execution_count": 89,
   "metadata": {},
   "outputs": [
    {
     "name": "stdout",
     "output_type": "stream",
     "text": [
      "                           Code  1 Year Survival in %  2 Year Survival in %  \\\n",
      "Area                                                                          \n",
      "City of London        E09000001                  89.5                  79.9   \n",
      "Barking and Dagenham  E09000002                  94.3                  77.0   \n",
      "Barnet                E09000003                  93.8                  77.5   \n",
      "Bexley                E09000004                  92.8                  77.8   \n",
      "Brent                 E09000005                  93.6                  69.4   \n",
      "\n",
      "                      3 Year Survival in %  4 Year Survival in %  \\\n",
      "Area                                                               \n",
      "City of London                        66.4                  57.6   \n",
      "Barking and Dagenham                  57.5                  47.1   \n",
      "Barnet                                55.4                  44.2   \n",
      "Bexley                                61.4                  50.3   \n",
      "Brent                                 49.5                  38.2   \n",
      "\n",
      "                      5 Year Survival in %  \n",
      "Area                                        \n",
      "City of London                        52.4  \n",
      "Barking and Dagenham                  40.2  \n",
      "Barnet                                36.7  \n",
      "Bexley                                42.5  \n",
      "Brent                                 32.1  \n",
      "       1 Year Survival in %  2 Year Survival in %  3 Year Survival in %  \\\n",
      "count             33.000000             33.000000             33.000000   \n",
      "mean              92.903030             75.906061             57.330303   \n",
      "std                0.957041              3.900716              4.873621   \n",
      "min               89.500000             63.700000             44.900000   \n",
      "25%               92.600000             73.500000             54.800000   \n",
      "50%               93.000000             76.600000             57.600000   \n",
      "75%               93.500000             77.900000             61.200000   \n",
      "max               94.300000             81.400000             66.400000   \n",
      "\n",
      "       4 Year Survival in %  5 Year Survival in %  \n",
      "count             33.000000             33.000000  \n",
      "mean              46.033333             38.972727  \n",
      "std                4.982699              4.712700  \n",
      "min               34.600000             28.600000  \n",
      "25%               43.800000             36.100000  \n",
      "50%               46.500000             39.800000  \n",
      "75%               49.700000             41.400000  \n",
      "max               57.600000             52.400000  \n"
     ]
    }
   ],
   "source": [
    "print(survivalrates['2002'].head(5))\n",
    "print(survivalrates['2002'].describe())"
   ]
  },
  {
   "cell_type": "markdown",
   "metadata": {},
   "source": [
    "It is expected that mean of each column will decrease because survival rates of businesses decrease as we measure longer periods. To get a better visualisation of the data, we will do a simple line graph of the 1, 2, 3, 4 and 5 year survival rates of businesses that started in 2002."
   ]
  },
  {
   "cell_type": "code",
   "execution_count": null,
   "metadata": {},
   "outputs": [],
   "source": [
    "# Transpose the dataframe so that it can be plotted\n",
    "survivalrates_transposed = survivalrates['2002'].transpose()\n",
    "\n",
    "# Remove the row for 'Code' as it is not numeric\n",
    "survivalrates_transposed.drop(['Code'], inplace = True)\n",
    "\n",
    "print(survivalrates_transposed.head(5))\n",
    "\n",
    "# Plot the transposed dataframe for all boroughts\n",
    "survivalrates_transposed.plot()\n",
    "plt.title('Survival Rates on Businesses that Started in 2002')\n",
    "plt.xlabel('Survival Rates')\n",
    "plt.ylabel('%')\n",
    "plt.savefig('charts/survival_rates_2002.png')\n"
   ]
  },
  {
   "cell_type": "markdown",
   "metadata": {},
   "source": [
    "As this is just exploring the data, the chart is messy. During the data visualisation stage, line graphs for all years for all boroughs will be created. The client would be able to choose the borough and then view the graph for each year in a slideshow feature. This would enable them to see whether there is a steep trend of survival rates, which would shed light on the difficulty of surviving from one year to another."
   ]
  },
  {
   "cell_type": "markdown",
   "metadata": {},
   "source": [
    "## Active Enterprises"
   ]
  },
  {
   "cell_type": "code",
   "execution_count": null,
   "metadata": {},
   "outputs": [],
   "source": [
    "print(activeenterprises.head(5))"
   ]
  },
  {
   "cell_type": "markdown",
   "metadata": {},
   "source": [
    "From looking at the data, it makes more sense to view the descriptions of the data by the borough. This is because the number of active enterprsies varies greatly by the borough, but less so throughout the years."
   ]
  },
  {
   "cell_type": "code",
   "execution_count": null,
   "metadata": {},
   "outputs": [],
   "source": [
    "# Transpose the dataframe\n",
    "activeenterprises_transposed = activeenterprises.transpose()\n",
    "\n",
    "# Remove the row for 'Code' as it is not numeric\n",
    "activeenterprises_transposed.drop(['Code'], inplace = True)\n",
    "\n",
    "# Plot the transposed dataframe for all boroughts\n",
    "activeenterprises_transposed.plot()\n",
    "plt.title('Active Enterprises Through the Years')\n",
    "plt.xlabel('Years')\n",
    "plt.ylabel('Numbers')\n",
    "plt.savefig('charts/active_enterprises.png')\n",
    "\n",
    "print(activeenterprises.describe())"
   ]
  },
  {
   "cell_type": "markdown",
   "metadata": {},
   "source": [
    "In the future, individual line graphs will be created for the client to view each one separately."
   ]
  },
  {
   "cell_type": "markdown",
   "metadata": {},
   "source": [
    "## Death Rates"
   ]
  },
  {
   "cell_type": "code",
   "execution_count": null,
   "metadata": {},
   "outputs": [],
   "source": []
  },
  {
   "cell_type": "markdown",
   "metadata": {},
   "source": [
    "# Problem 1: Are there any general trends with regard to 5-year survival rates?\n",
    "As we're interested in analysing the 5-year survival rates, we will create a dataframe with just that data for multiple years. As the available data is only up to year 2019, there is only data of the 5-year survival rates up to year 2014."
   ]
  },
  {
   "cell_type": "code",
   "execution_count": 83,
   "metadata": {},
   "outputs": [
    {
     "name": "stdout",
     "output_type": "stream",
     "text": [
      "                      Area       Code  2002  2003  2004  2005  2006  2007  \\\n",
      "0           City of London  E09000001  52.4  52.7  52.8  43.3  50.2  49.8   \n",
      "1     Barking and Dagenham  E09000002  40.2  39.1  38.5  33.9  39.2  38.2   \n",
      "2                   Barnet  E09000003  36.7  38.2  39.4  42.4  42.1  42.5   \n",
      "3                   Bexley  E09000004  42.5  43.6  44.1  45.4  45.8  43.1   \n",
      "4                    Brent  E09000005  32.1    34  38.6    40    38  39.7   \n",
      "5                  Bromley  E09000006  44.1  46.1  46.9  42.4  44.9  43.7   \n",
      "6                   Camden  E09000007  40.5  41.9  47.5  43.1  42.7  43.4   \n",
      "7                  Croydon  E09000008  40.1  41.3  42.9  42.1  38.6  41.4   \n",
      "8                   Ealing  E09000009  40.8  35.1  38.8  37.3  40.8  38.6   \n",
      "9                  Enfield  E09000010  39.7  41.9  42.9    39  39.7  41.6   \n",
      "10               Greenwich  E09000011    37  39.7    40  40.6  39.9  39.7   \n",
      "11                 Hackney  E09000012  39.8    43  44.3  42.5  43.2  46.1   \n",
      "12  Hammersmith and Fulham  E09000013  28.6  32.7  35.4  34.7  37.1  38.1   \n",
      "13                Haringey  E09000014  35.6  35.9  40.9  38.1  41.6  44.9   \n",
      "14                  Harrow  E09000015    43  42.8  43.4  41.3    45  46.2   \n",
      "15                Havering  E09000016    43  46.2  43.6  43.9  44.1  40.9   \n",
      "16              Hillingdon  E09000017  40.2  41.9  45.7  41.9  42.1  47.1   \n",
      "17                Hounslow  E09000018  39.5  40.8  40.5  40.9  40.9  42.3   \n",
      "18               Islington  E09000019    40    41  41.7  39.5  44.8    45   \n",
      "19  Kensington and Chelsea  E09000020  43.8  42.6  45.2  42.8  45.3  42.3   \n",
      "20    Kingston upon Thames  E09000021  43.3  48.4  43.2  41.9  45.9  45.4   \n",
      "21                 Lambeth  E09000022  37.8  35.4  39.2    39  39.1  39.6   \n",
      "22                Lewisham  E09000023  35.7  37.9    41  37.8  41.3  41.1   \n",
      "23                  Merton  E09000024  33.3  37.2    39  36.7  39.5  42.1   \n",
      "24                  Newham  E09000025  32.3  36.8  37.3  16.6    35  36.2   \n",
      "25               Redbridge  E09000026  37.7  36.3  39.1  37.7  34.4  41.1   \n",
      "26    Richmond upon Thames  E09000027  44.7  47.3  49.5  45.9  45.3  46.5   \n",
      "27               Southwark  E09000028  40.1  40.9  40.1  41.8  40.6  39.3   \n",
      "28                  Sutton  E09000029  41.4  47.8  44.4  46.9  48.8  46.6   \n",
      "29           Tower Hamlets  E09000030  36.1  39.7  41.5  35.8    41  39.5   \n",
      "30          Waltham Forest  E09000031  32.1  40.6  37.2  35.6  33.3  38.2   \n",
      "31              Wandsworth  E09000032  32.4  32.2  36.5  37.3  40.4  35.7   \n",
      "32             Westminster  E09000033  39.6  35.8  43.2  43.1  44.7  40.4   \n",
      "\n",
      "    2008  2009  2010  2011  2012  2013  2014  \n",
      "0   33.2  36.3  39.3  38.2  37.9  39.8  37.7  \n",
      "1   34.7  33.3  36.2  38.3  39.6  36.7    37  \n",
      "2   39.5  37.6  36.7  41.3  40.9  41.2  39.9  \n",
      "3   43.4  43.8  39.3  43.9  44.1  42.2  41.6  \n",
      "4   37.9  37.4  39.9  40.7  39.2  42.1    41  \n",
      "5   39.6  41.7  44.1  46.5  44.6  46.6    45  \n",
      "6   38.1  38.6  38.6  41.9  39.5    41  39.2  \n",
      "7     40  39.3  38.1  44.2  39.4  40.3  42.1  \n",
      "8   38.5  40.2  39.4    41  42.5  41.6  43.1  \n",
      "9   38.1  37.4  38.1  41.2  43.7  37.7  38.6  \n",
      "10  35.9  40.8  39.6  41.2    40  37.1  39.6  \n",
      "11  37.1    43  40.8  43.1  43.5  43.2  42.4  \n",
      "12  33.9  36.5  36.6  39.1  35.5  40.8  39.1  \n",
      "13  38.2  39.6  40.4    42  40.7  40.3  41.1  \n",
      "14  42.2  41.9  42.5  43.3  43.4  45.2  43.5  \n",
      "15  35.5  38.7    41  42.8  45.2  40.8  42.8  \n",
      "16  43.4  39.8  43.7  45.4  44.3  43.1  40.7  \n",
      "17  38.1  39.7  43.5  43.2  43.4  44.3  44.4  \n",
      "18  36.6  40.5    39  43.6  38.1  38.5  38.2  \n",
      "19    38  40.3  38.9  41.7  38.9  41.8  42.7  \n",
      "20  40.5    42  41.2  47.7    50  43.9  43.7  \n",
      "21  34.8  38.8  42.1  41.4    25  20.9  20.1  \n",
      "22  34.9  38.3  39.6  42.2  42.4  38.6  39.8  \n",
      "23  39.4  37.3    42  43.5  42.5  42.9  42.9  \n",
      "24  29.2    35  33.3  36.4  36.8  34.9    37  \n",
      "25  36.3  36.4  36.4  41.8  39.9  40.5  41.1  \n",
      "26  43.9  44.6  45.7  46.3  45.8  43.5  44.3  \n",
      "27  33.6  38.2  39.8  40.6  39.8  40.6  40.3  \n",
      "28  41.7  44.1  44.9  48.8  45.1  43.8  46.4  \n",
      "29    35  36.2  36.5  40.8  35.9  35.6  37.3  \n",
      "30  38.4  37.9  37.2    35  37.5  37.9  40.2  \n",
      "31  35.6  40.8  39.8  42.9  39.9  40.6  40.1  \n",
      "32  34.7  34.8    37  39.4  35.6  38.6    38  \n"
     ]
    }
   ],
   "source": [
    "# Create a list and append Code and Area\n",
    "five_year_survival_rate_list = []\n",
    "five_year_survival_rate_list.append(list(survivalrates['2002'].index))\n",
    "five_year_survival_rate_list.append(list(survivalrates['2002']['Code']))\n",
    "\n",
    "# Append the relevant 5 year survival rates for businesses created in various years\n",
    "for i in range (2002, 2015):\n",
    "    five_year_survival_rate_list.append(list(survivalrates[str(i)]['5 Year Survival in %']))\n",
    "\n",
    "# Transpose and read the dataframe\n",
    "five_year_survival_rate_df = pd.DataFrame(five_year_survival_rate_list).transpose()\n",
    "\n",
    "# Set the column names\n",
    "five_year_survival_rate_df.columns=['Area', 'Code', '2002', '2003', '2004', '2005', '2006', '2007', '2008', '2009', '2010', '2011', '2012', '2013', '2014']\n",
    "\n",
    "print(five_year_survival_rate_df)"
   ]
  },
  {
   "cell_type": "markdown",
   "metadata": {},
   "source": [
    "Cleaning the data."
   ]
  },
  {
   "cell_type": "code",
   "execution_count": 84,
   "metadata": {},
   "outputs": [
    {
     "name": "stdout",
     "output_type": "stream",
     "text": [
      "<class 'pandas.core.frame.DataFrame'>\n",
      "Index: 33 entries, City of London to Westminster\n",
      "Data columns (total 13 columns):\n",
      " #   Column  Non-Null Count  Dtype \n",
      "---  ------  --------------  ----- \n",
      " 0   2002    33 non-null     object\n",
      " 1   2003    33 non-null     object\n",
      " 2   2004    33 non-null     object\n",
      " 3   2005    33 non-null     object\n",
      " 4   2006    33 non-null     object\n",
      " 5   2007    33 non-null     object\n",
      " 6   2008    33 non-null     object\n",
      " 7   2009    33 non-null     object\n",
      " 8   2010    33 non-null     object\n",
      " 9   2011    33 non-null     object\n",
      " 10  2012    33 non-null     object\n",
      " 11  2013    33 non-null     object\n",
      " 12  2014    33 non-null     object\n",
      "dtypes: object(13)\n",
      "memory usage: 3.6+ KB\n",
      "None\n",
      "                        2002  2003  2004  2005  2006  2007  2008  2009  2010  \\\n",
      "Area                                                                           \n",
      "City of London          52.4  52.7  52.8  43.3  50.2  49.8  33.2  36.3  39.3   \n",
      "Barking and Dagenham    40.2  39.1  38.5  33.9  39.2  38.2  34.7  33.3  36.2   \n",
      "Barnet                  36.7  38.2  39.4  42.4  42.1  42.5  39.5  37.6  36.7   \n",
      "Bexley                  42.5  43.6  44.1  45.4  45.8  43.1  43.4  43.8  39.3   \n",
      "Brent                   32.1  34.0  38.6  40.0  38.0  39.7  37.9  37.4  39.9   \n",
      "Bromley                 44.1  46.1  46.9  42.4  44.9  43.7  39.6  41.7  44.1   \n",
      "Camden                  40.5  41.9  47.5  43.1  42.7  43.4  38.1  38.6  38.6   \n",
      "Croydon                 40.1  41.3  42.9  42.1  38.6  41.4  40.0  39.3  38.1   \n",
      "Ealing                  40.8  35.1  38.8  37.3  40.8  38.6  38.5  40.2  39.4   \n",
      "Enfield                 39.7  41.9  42.9  39.0  39.7  41.6  38.1  37.4  38.1   \n",
      "Greenwich               37.0  39.7  40.0  40.6  39.9  39.7  35.9  40.8  39.6   \n",
      "Hackney                 39.8  43.0  44.3  42.5  43.2  46.1  37.1  43.0  40.8   \n",
      "Hammersmith and Fulham  28.6  32.7  35.4  34.7  37.1  38.1  33.9  36.5  36.6   \n",
      "Haringey                35.6  35.9  40.9  38.1  41.6  44.9  38.2  39.6  40.4   \n",
      "Harrow                  43.0  42.8  43.4  41.3  45.0  46.2  42.2  41.9  42.5   \n",
      "Havering                43.0  46.2  43.6  43.9  44.1  40.9  35.5  38.7  41.0   \n",
      "Hillingdon              40.2  41.9  45.7  41.9  42.1  47.1  43.4  39.8  43.7   \n",
      "Hounslow                39.5  40.8  40.5  40.9  40.9  42.3  38.1  39.7  43.5   \n",
      "Islington               40.0  41.0  41.7  39.5  44.8  45.0  36.6  40.5  39.0   \n",
      "Kensington and Chelsea  43.8  42.6  45.2  42.8  45.3  42.3  38.0  40.3  38.9   \n",
      "Kingston upon Thames    43.3  48.4  43.2  41.9  45.9  45.4  40.5  42.0  41.2   \n",
      "Lambeth                 37.8  35.4  39.2  39.0  39.1  39.6  34.8  38.8  42.1   \n",
      "Lewisham                35.7  37.9  41.0  37.8  41.3  41.1  34.9  38.3  39.6   \n",
      "Merton                  33.3  37.2  39.0  36.7  39.5  42.1  39.4  37.3  42.0   \n",
      "Newham                  32.3  36.8  37.3  16.6  35.0  36.2  29.2  35.0  33.3   \n",
      "Redbridge               37.7  36.3  39.1  37.7  34.4  41.1  36.3  36.4  36.4   \n",
      "Richmond upon Thames    44.7  47.3  49.5  45.9  45.3  46.5  43.9  44.6  45.7   \n",
      "Southwark               40.1  40.9  40.1  41.8  40.6  39.3  33.6  38.2  39.8   \n",
      "Sutton                  41.4  47.8  44.4  46.9  48.8  46.6  41.7  44.1  44.9   \n",
      "Tower Hamlets           36.1  39.7  41.5  35.8  41.0  39.5  35.0  36.2  36.5   \n",
      "Waltham Forest          32.1  40.6  37.2  35.6  33.3  38.2  38.4  37.9  37.2   \n",
      "Wandsworth              32.4  32.2  36.5  37.3  40.4  35.7  35.6  40.8  39.8   \n",
      "Westminster             39.6  35.8  43.2  43.1  44.7  40.4  34.7  34.8  37.0   \n",
      "\n",
      "                        2011  2012  2013  2014  \n",
      "Area                                            \n",
      "City of London          38.2  37.9  39.8  37.7  \n",
      "Barking and Dagenham    38.3  39.6  36.7  37.0  \n",
      "Barnet                  41.3  40.9  41.2  39.9  \n",
      "Bexley                  43.9  44.1  42.2  41.6  \n",
      "Brent                   40.7  39.2  42.1  41.0  \n",
      "Bromley                 46.5  44.6  46.6  45.0  \n",
      "Camden                  41.9  39.5  41.0  39.2  \n",
      "Croydon                 44.2  39.4  40.3  42.1  \n",
      "Ealing                  41.0  42.5  41.6  43.1  \n",
      "Enfield                 41.2  43.7  37.7  38.6  \n",
      "Greenwich               41.2  40.0  37.1  39.6  \n",
      "Hackney                 43.1  43.5  43.2  42.4  \n",
      "Hammersmith and Fulham  39.1  35.5  40.8  39.1  \n",
      "Haringey                42.0  40.7  40.3  41.1  \n",
      "Harrow                  43.3  43.4  45.2  43.5  \n",
      "Havering                42.8  45.2  40.8  42.8  \n",
      "Hillingdon              45.4  44.3  43.1  40.7  \n",
      "Hounslow                43.2  43.4  44.3  44.4  \n",
      "Islington               43.6  38.1  38.5  38.2  \n",
      "Kensington and Chelsea  41.7  38.9  41.8  42.7  \n",
      "Kingston upon Thames    47.7  50.0  43.9  43.7  \n",
      "Lambeth                 41.4  25.0  20.9  20.1  \n",
      "Lewisham                42.2  42.4  38.6  39.8  \n",
      "Merton                  43.5  42.5  42.9  42.9  \n",
      "Newham                  36.4  36.8  34.9  37.0  \n",
      "Redbridge               41.8  39.9  40.5  41.1  \n",
      "Richmond upon Thames    46.3  45.8  43.5  44.3  \n",
      "Southwark               40.6  39.8  40.6  40.3  \n",
      "Sutton                  48.8  45.1  43.8  46.4  \n",
      "Tower Hamlets           40.8  35.9  35.6  37.3  \n",
      "Waltham Forest          35.0  37.5  37.9  40.2  \n",
      "Wandsworth              42.9  39.9  40.6  40.1  \n",
      "Westminster             39.4  35.6  38.6  38.0  \n"
     ]
    }
   ],
   "source": [
    "# Drop unnessary columns\n",
    "five_year_survival_rate_df.drop('Code', axis = 1, inplace=True)\n",
    "\n",
    "# Clean the data\n",
    "clean_data(five_year_survival_rate_df)\n",
    "\n",
    "print(five_year_survival_rate_df.info(verbose=True))\n",
    "\n",
    "for i in range(2002, 2015):\n",
    "    five_year_survival_rate_df[str(i)] = five_year_survival_rate_df[str(i)].astype(float)\n",
    "\n",
    "print(five_year_survival_rate_df)\n"
   ]
  },
  {
   "cell_type": "markdown",
   "metadata": {},
   "source": [
    "Now we will create a box plot to view the spread of the 5-year survival rates for each year to analyse the general trend of these rates, which is one of our business question. It also helps us to find if there are any outliers in the data. "
   ]
  },
  {
   "cell_type": "code",
   "execution_count": 93,
   "metadata": {},
   "outputs": [
    {
     "data": {
      "image/png": "[encoded data removed]",
      "text/plain": [
       "<Figure size 432x288 with 1 Axes>"
      ]
     },
     "metadata": {
      "needs_background": "light"
     },
     "output_type": "display_data"
    }
   ],
   "source": [
    "# View boxplot and save as an image\n",
    "sns.boxplot(data=five_year_survival_rate_df).get_figure().savefig('charts/boxplot.png')"
   ]
  },
  {
   "cell_type": "markdown",
   "metadata": {},
   "source": [
    "From the boxplot, we observe that there is no general trend with regard to 5-year survival rates as the interquartile range and median for all years do not vary signicantly. An exception would be the 5-year survival rates for businesses created in 2008, but could be due to the 2008 financial crisis.\n",
    "\n",
    "We also analyse that there are some outliers. To check if these outliers should be removed, we will analyse the extreme outliers in year 2005, 2012, 2013 and 2014."
   ]
  },
  {
   "cell_type": "markdown",
   "metadata": {},
   "source": []
  },
  {
   "cell_type": "markdown",
   "metadata": {},
   "source": [
    "To analyse this further, it would be good to see the other survival rates of this area."
   ]
  },
  {
   "cell_type": "code",
   "execution_count": null,
   "metadata": {},
   "outputs": [],
   "source": []
  },
  {
   "cell_type": "markdown",
   "metadata": {},
   "source": [
    "As it seems that the data is just an extreme value, it will not be removed."
   ]
  },
  {
   "cell_type": "markdown",
   "metadata": {},
   "source": [
    "# Problem 2: Based on data on past years, which borough has the best 5-year survival rate?\n",
    "\n",
    "As we are trying to find the borough with the best 5-year survival rate, we will calculate the average 5 year survival rate for each borough. We will also save this dataframe with the new column with the averages as a separate sheets in the Excel file for future use."
   ]
  },
  {
   "cell_type": "code",
   "execution_count": null,
   "metadata": {},
   "outputs": [],
   "source": [
    "five_year_survival_rate_df['mean'] = five_year_survival_rate_df.iloc[:, 1:14].mean(axis=1)\n",
    "\n",
    "# Add a new sheet to the existing file\n",
    "with pd.ExcelWriter('data/prepared_data.xlsx',\n",
    "                    mode = 'a', engine='openpyxl') as writer:  \n",
    "    five_year_survival_rate_df.to_excel(writer, sheet_name='5-Year Survival Rates')"
   ]
  },
  {
   "cell_type": "markdown",
   "metadata": {},
   "source": [
    "To see the averages of all boroughs and identify the one with the highest average, we will view this data on a barchart."
   ]
  },
  {
   "cell_type": "code",
   "execution_count": null,
   "metadata": {},
   "outputs": [],
   "source": [
    "# View the 5-year survival rate average for each borough\n",
    "five_year_survival_rate_df.plot.bar(y='mean')\n",
    "\n",
    "# Identify the borough with the highest average\n",
    "max = five_year_survival_rate_df['mean'].idxmax()\n",
    "print('Borough with the highest 5-year survival rate is ' + str(max) + ' with a survival rate of ' + str(round(five_year_survival_rate_df['mean'].max())) + '%')"
   ]
  },
  {
   "cell_type": "markdown",
   "metadata": {},
   "source": [
    "Thus, we identify that Sutton has the highest 5-year survival rate based on past data. "
   ]
  },
  {
   "cell_type": "markdown",
   "metadata": {},
   "source": [
    "# Problem 3: Which boroughs have the highest economic activity, indicated by the number of active enterprises?\n",
    "\n",
    "Next, we will look at the number of active enterprises in each area. To get a better idea of the current economic situtation in each borough, we will use data from the most recent year available in the dataset (year 2019), to find the borough with the highest number of active enterprises."
   ]
  },
  {
   "cell_type": "code",
   "execution_count": null,
   "metadata": {},
   "outputs": [],
   "source": [
    "activeenterprises_2019 = activeenterprises['2019'].copy()\n",
    "activeenterprises_2019.plot.bar(y='mean')\n",
    "\n",
    "# Identify the borough with the highest average\n",
    "max = activeenterprises_2019.idxmax()\n",
    "print('Borough with the highest number of active enterprises in 2019 is ' + str(max) + ' with ' + str(activeenterprises_2019.max()) + ' enterprises')"
   ]
  },
  {
   "cell_type": "markdown",
   "metadata": {},
   "source": [
    "# Problem 4: Which boroughs have the highest death rates?\n",
    "Finally, we will look at the average death rates "
   ]
  },
  {
   "cell_type": "code",
   "execution_count": null,
   "metadata": {},
   "outputs": [],
   "source": []
  }
 ],
 "metadata": {
  "interpreter": {
   "hash": "40d3a090f54c6569ab1632332b64b2c03c39dcf918b08424e98f38b5ae0af88f"
  },
  "kernelspec": {
   "display_name": "Python 3.8.5 64-bit ('base': conda)",
   "language": "python",
   "name": "python3"
  },
  "language_info": {
   "codemirror_mode": {
    "name": "ipython",
    "version": 3
   },
   "file_extension": ".py",
   "mimetype": "text/x-python",
   "name": "python",
   "nbconvert_exporter": "python",
   "pygments_lexer": "ipython3",
   "version": "3.8.5"
  },
  "orig_nbformat": 4
 },
 "nbformat": 4,
 "nbformat_minor": 2
}
