{
 "cells": [
  {
   "cell_type": "code",
   "execution_count": null,
   "metadata": {},
   "outputs": [],
   "source": [
    "import pandas as pd"
   ]
  },
  {
   "cell_type": "markdown",
   "metadata": {},
   "source": [
    "To begin, we read the Excel file to see all the sheets that are in our file and identify which would be relevant to answer the business questions."
   ]
  },
  {
   "cell_type": "code",
   "execution_count": null,
   "metadata": {},
   "outputs": [],
   "source": [
    "# Print all sheet names\n",
    "all_sheets = pd.ExcelFile('data/business-demographics.xlsx')\n",
    "print(all_sheets.sheet_names)"
   ]
  },
  {
   "cell_type": "markdown",
   "metadata": {},
   "source": [
    "# Survival Rates"
   ]
  },
  {
   "cell_type": "markdown",
   "metadata": {},
   "source": [
    "To answer our first two business questions regarding survival rates, we have to analyse past survival rates of businesses created in different years. Thus, we will analyse the sheets with the survival rates of businesses."
   ]
  },
  {
   "cell_type": "code",
   "execution_count": null,
   "metadata": {},
   "outputs": [],
   "source": [
    "# Read the sheets on survival rates in a dictionary\n",
    "survivalrates = {}\n",
    "    \n",
    "for i in range(2002, 2019):\n",
    "    survivalrates[str(i)] = pd.read_excel('data/business-demographics.xlsx', sheet_name= str(i) + ' Survival Rates')\n",
    "\n",
    "# Print 2002 Survival Rates\n",
    "print(survivalrates['2002'].head(5))\n",
    "\n",
    "# Print the number of rows and columns in the dataframe\n",
    "print(survivalrates['2002'].shape)"
   ]
  },
  {
   "cell_type": "markdown",
   "metadata": {},
   "source": [
    "At first glance, we identify several problems with the dataset and we can assume that these problems exist in all other sheets on survival rates.  \n",
    "\n",
    "Firstly, the column names are mostly unnamed, so we know the first row of the dataset contains empty values. Thus, we should re-read the Excel file and skip the first row.\n"
   ]
  },
  {
   "cell_type": "code",
   "execution_count": null,
   "metadata": {},
   "outputs": [],
   "source": [
    "# Read the sheets and skip a row\n",
    "for i in range(2002, 2019):\n",
    "    survivalrates[str(i)] = pd.read_excel('data/business-demographics.xlsx', sheet_name= str(i) + ' Survival Rates', skiprows=1)\n",
    "\n",
    "print(survivalrates['2002'].head(5))"
   ]
  },
  {
   "cell_type": "markdown",
   "metadata": {},
   "source": [
    "Secondly, we can drop the columns that represent the survival rates in numbers as this data is better represented as a percentage of business 'births' in that year. We can also drop the 'Births' column as it is not relevant to answering our business questions."
   ]
  },
  {
   "cell_type": "code",
   "execution_count": null,
   "metadata": {},
   "outputs": [],
   "source": [
    "# Removing 'Births' and the columns with survival rates in numbers \n",
    "for i in range(2002, 2019):\n",
    "    survivalrates[str(i)].drop(survivalrates[str(i)].columns[[2, 3, 5, 7, 9, 11]], axis=1, inplace=True)\n",
    "\n",
    "print(survivalrates['2002'].head(5))"
   ]
  },
  {
   "cell_type": "markdown",
   "metadata": {},
   "source": [
    "We can also rename the column names as we know from viewing the dataframe previously that the 'Per cent' columns are the survival rates in percentage for 1, 2, 3, 4 and 5 years in that order."
   ]
  },
  {
   "cell_type": "code",
   "execution_count": null,
   "metadata": {},
   "outputs": [],
   "source": [
    "# Rename columns\n",
    "for i in range(2002, 2019):\n",
    "    survivalrates[str(i)].rename(columns={'Per cent': '1 Year Survival in %', 'Per cent.1': '2 Year Survival in %', 'Per cent.2': '3 Year Survival in %','Per cent.3': '4 Year Survival in %','Per cent.4': '5 Year Survival in %',}, inplace=True)\n",
    "\n",
    "print(survivalrates['2002'].head(5))"
   ]
  },
  {
   "cell_type": "markdown",
   "metadata": {},
   "source": [
    "Thirdly, we observe that there is an empty row at the start of the data, so we want to test if there are any other empty rows or cells in the dataset."
   ]
  },
  {
   "cell_type": "code",
   "execution_count": null,
   "metadata": {},
   "outputs": [],
   "source": [
    "# Check for missing values\n",
    "print(survivalrates['2002'].isnull().sum())\n",
    "print(survivalrates['2002'].isna().sum())\n",
    "\n",
    "missing_rows_na = survivalrates['2002'][survivalrates['2002'].isna().any(axis=1)]\n",
    "print(missing_rows_na)"
   ]
  },
  {
   "cell_type": "markdown",
   "metadata": {},
   "source": [
    "We observe that rows 0, 34, 37, 47 and 52 are empty, so we can drop these rows. To better understand the data and why there are empty rows, we can view all the data."
   ]
  },
  {
   "cell_type": "code",
   "execution_count": null,
   "metadata": {},
   "outputs": [],
   "source": [
    "# Print the whole sheet\n",
    "print(survivalrates['2002'])"
   ]
  },
  {
   "cell_type": "markdown",
   "metadata": {},
   "source": [
    "After row 33, the data is on different regions in London. As this information is already contained in the above rows which detail the survival rates in different boroughs of London, we can remove the rows below 33. We will also rename the column 'Area' to 'Borough' to better reflect the information."
   ]
  },
  {
   "cell_type": "code",
   "execution_count": null,
   "metadata": {},
   "outputs": [],
   "source": [
    "# Only keep rows with borough information\n",
    "for i in range(2002, 2019):\n",
    "    survivalrates[str(i)] = survivalrates[str(i)].iloc[1:34]\n",
    "\n",
    "# Rename 'Area' to 'Borough'\n",
    "for i in range(2002, 2019):\n",
    "    survivalrates[str(i)].rename(columns={'Area': 'Borough'}, inplace = True)  \n",
    "\n",
    "print(survivalrates['2002'])"
   ]
  },
  {
   "cell_type": "markdown",
   "metadata": {},
   "source": [
    "Logically, as we know that the data in this dataset only goes up to 2019, we know that later years would not have all the data for survival rates for surviving more than a year. Thus, we need to check the other sheets as well."
   ]
  },
  {
   "cell_type": "code",
   "execution_count": null,
   "metadata": {},
   "outputs": [],
   "source": [
    "# Print the 2018 Survival Rates sheet\n",
    "print(survivalrates['2018'].head(5))"
   ]
  },
  {
   "cell_type": "markdown",
   "metadata": {},
   "source": [
    "This means we need to remove the columns with ':'."
   ]
  },
  {
   "cell_type": "code",
   "execution_count": null,
   "metadata": {},
   "outputs": [],
   "source": [
    "# Remove columns that contain ':'\n",
    "for i in range(2002, 2019):\n",
    "    survivalrates[str(i)].drop(columns = survivalrates[str(i)].columns[(survivalrates[str(i)] == ':').any()], inplace = True)\n",
    "\n",
    "print(survivalrates['2017'].head(5))"
   ]
  },
  {
   "cell_type": "markdown",
   "metadata": {},
   "source": [
    "As we are dealing with a lot of numbers, it is also important to check if the data type of each column is stored as numbers and not as strings. It would also be good to standardise that they are one decimal place."
   ]
  },
  {
   "cell_type": "code",
   "execution_count": null,
   "metadata": {},
   "outputs": [],
   "source": [
    "# Check the data type of each column\n",
    "print(survivalrates['2002'].info(verbose=True))\n",
    "\n",
    "# Round all numbers to one decimal place\n",
    "for i in range(2002, 2019):\n",
    "    survivalrates[str(i)] = survivalrates[str(i)].round(decimals = 1)\n",
    "\n",
    "print(survivalrates['2004'])"
   ]
  },
  {
   "cell_type": "markdown",
   "metadata": {},
   "source": [
    "We will also set the index to 'Borough'. It will also be noted that the column 'Code' is kept as it might be useful in the future when merging data with map data etc."
   ]
  },
  {
   "cell_type": "code",
   "execution_count": null,
   "metadata": {},
   "outputs": [],
   "source": [
    "# Set the index to the column 'Borough'\n",
    "for i in range(2002, 2019):\n",
    "    survivalrates[str(i)].set_index('Borough', inplace=True)"
   ]
  },
  {
   "cell_type": "markdown",
   "metadata": {},
   "source": [
    "# Active Enterprises\n",
    "Another sheet in the Excel file that would be relevant to answering the business question is 'Active Enterprises by year'. "
   ]
  },
  {
   "cell_type": "code",
   "execution_count": null,
   "metadata": {},
   "outputs": [],
   "source": [
    "# Read the 'Active Enterprises by year' sheet\n",
    "activeenterprises = pd.read_excel('data/business-demographics.xlsx', sheet_name= 'Active Enterprises by year')\n",
    "\n",
    "print(activeenterprises)"
   ]
  },
  {
   "cell_type": "markdown",
   "metadata": {},
   "source": [
    "As the structure is similiar to that of the previous sheets with survival rates except without incorrect column names, we will perform the same data cleaning process to remove empty rows, create a new dataframe with only the relevant data, rename 'Area' to 'Borough' and convert the column names to strings. To confirm, we will also check for empty values."
   ]
  },
  {
   "cell_type": "code",
   "execution_count": null,
   "metadata": {},
   "outputs": [],
   "source": [
    "# Only keep rows with borough information\n",
    "activeenterprises = activeenterprises.iloc[1:34]\n",
    "\n",
    "# Rename 'Area' to 'Borough'\n",
    "activeenterprises.rename(columns={'Area': 'Borough'}, inplace = True)  \n",
    "\n",
    "print(activeenterprises)"
   ]
  },
  {
   "cell_type": "code",
   "execution_count": null,
   "metadata": {},
   "outputs": [],
   "source": [
    "# Check for missing values\n",
    "print(activeenterprises.isnull().sum())\n",
    "print(activeenterprises.isna().sum())"
   ]
  },
  {
   "cell_type": "code",
   "execution_count": null,
   "metadata": {},
   "outputs": [],
   "source": [
    "# Convert the column names from integers to string\n",
    "activeenterprises.columns = activeenterprises.columns.map(str)\n",
    "\n",
    "# Check the data type of each column\n",
    "print(activeenterprises.info(verbose=True))\n"
   ]
  },
  {
   "cell_type": "markdown",
   "metadata": {},
   "source": [
    "As the births are in float, we can convert them to integers as it makes more sense based on the context of the data."
   ]
  },
  {
   "cell_type": "code",
   "execution_count": null,
   "metadata": {},
   "outputs": [],
   "source": [
    "# Convert the numerical data to int\n",
    "for i in range (2002, 2020):\n",
    "    activeenterprises[str(i)] = activeenterprises[str(i)].astype(int)\n",
    "\n",
    "print(activeenterprises.head(5))"
   ]
  },
  {
   "cell_type": "markdown",
   "metadata": {},
   "source": [
    "We will also set the index to 'Borough'."
   ]
  },
  {
   "cell_type": "code",
   "execution_count": null,
   "metadata": {},
   "outputs": [],
   "source": [
    "# Set the index to the column 'Borough'\n",
    "activeenterprises.set_index('Borough', inplace=True)"
   ]
  },
  {
   "cell_type": "markdown",
   "metadata": {},
   "source": [
    "# Enterprise Deaths\n",
    "The last sheets that would be useful is 'Enterprise deaths by year' as we are concerned with looking into the death rate of enterprises. "
   ]
  },
  {
   "cell_type": "code",
   "execution_count": null,
   "metadata": {},
   "outputs": [],
   "source": [
    "# Read the 'Enterprise deaths by year' sheet\n",
    "enterprisedeaths = pd.read_excel('data/business-demographics.xlsx', sheet_name= 'Enterprise deaths by year')\n",
    "\n",
    "print(enterprisedeaths.columns)\n",
    "print(enterprisedeaths.head(5))"
   ]
  },
  {
   "cell_type": "markdown",
   "metadata": {},
   "source": [
    "Looking at the data, we observe that there are two types of columns, the numbers of businesses that 'died' in that year and this number as a percentage of the number of active enterprises. It is more useful to analyse the percentage of business that die in that year out of the active enterprises so that a more effective comparison between boroughs can be realised, thus, we will only keep this data."
   ]
  },
  {
   "cell_type": "code",
   "execution_count": null,
   "metadata": {},
   "outputs": [],
   "source": [
    "# Read the sheets and skip a row\n",
    "enterprisedeaths = pd.read_excel('data/business-demographics.xlsx', sheet_name= 'Enterprise deaths by year', skiprows=1)\n",
    "\n",
    "# Rename 'Area' to 'Borough'\n",
    "enterprisedeaths.rename(columns={'Area': 'Borough'}, inplace = True) \n",
    "\n",
    "# Convert the column names from integers to string\n",
    "enterprisedeaths.columns = enterprisedeaths.columns.map(str)\n",
    "\n",
    "# Remove columns with number of businesses\n",
    "for i in range (2004, 2020):\n",
    "    enterprisedeaths.drop([str(i)], axis = 1, inplace = True)\n",
    "\n",
    "# Drop columns with only null values\n",
    "enterprisedeaths.dropna(axis = 1, how = 'all', inplace = True)\n",
    "\n",
    "# Rename columns by removing '.1' at the end \n",
    "enterprisedeaths.columns = enterprisedeaths.columns.str.strip(to_strip = '.1')\n",
    "enterprisedeaths.columns = enterprisedeaths.columns.map(str)\n",
    "\n",
    "# Only keep rows with borough information\n",
    "enterprisedeaths = enterprisedeaths.iloc[1:34]\n",
    "\n",
    "# Round all numbers to one decimal place\n",
    "enterprisedeaths = enterprisedeaths.round(decimals = 1)\n",
    "\n",
    "# Set the index to the column 'Borough'\n",
    "enterprisedeaths.set_index('Borough', inplace=True)\n",
    "\n",
    "print(enterprisedeaths.columns)\n",
    "print(enterprisedeaths.head(5))"
   ]
  },
  {
   "cell_type": "markdown",
   "metadata": {},
   "source": [
    "We observe that column name for the year 2011 was wrongly stripped as well, so we will fix that."
   ]
  },
  {
   "cell_type": "code",
   "execution_count": null,
   "metadata": {},
   "outputs": [],
   "source": [
    "# Rename the column '20' to '2011'\n",
    "enterprisedeaths.rename(columns={'20': '2011'}, inplace = True)\n",
    "\n",
    "print(enterprisedeaths.columns)\n",
    "print(enterprisedeaths.head(5))"
   ]
  },
  {
   "cell_type": "markdown",
   "metadata": {},
   "source": [
    "Now, as the data is prepared, we will save the edited file as a new Excel file."
   ]
  },
  {
   "cell_type": "code",
   "execution_count": null,
   "metadata": {},
   "outputs": [],
   "source": [
    "# Save only the relevant sheets \n",
    "with pd.ExcelWriter('data/prepared_data1.xlsx') as writer:  \n",
    "    activeenterprises.to_excel(writer, sheet_name='Active Enterprises by Year')\n",
    "    enterprisedeaths.to_excel(writer, sheet_name='Death Rates in % by Year')\n",
    "    for i in range(2002, 2019):\n",
    "        survivalrates[str(i)].to_excel(writer, sheet_name= str(i) + ' Survival Rates')"
   ]
  }
 ],
 "metadata": {
  "interpreter": {
   "hash": "40d3a090f54c6569ab1632332b64b2c03c39dcf918b08424e98f38b5ae0af88f"
  },
  "kernelspec": {
   "display_name": "Python 3.8.5 64-bit ('base': conda)",
   "name": "python3"
  },
  "language_info": {
   "codemirror_mode": {
    "name": "ipython",
    "version": 3
   },
   "file_extension": ".py",
   "mimetype": "text/x-python",
   "name": "python",
   "nbconvert_exporter": "python",
   "pygments_lexer": "ipython3",
   "version": "3.8.5"
  },
  "orig_nbformat": 4
 },
 "nbformat": 4,
 "nbformat_minor": 2
}
