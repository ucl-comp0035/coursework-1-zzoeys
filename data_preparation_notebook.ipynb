{
 "cells": [
  {
   "cell_type": "code",
   "execution_count": null,
   "metadata": {},
   "outputs": [],
   "source": [
    "import pandas as pd"
   ]
  },
  {
   "cell_type": "markdown",
   "metadata": {},
   "source": [
    "To begin, we read the Excel file to see all the sheets that are in our file and identify which would be relevant to answer the business questions."
   ]
  },
  {
   "cell_type": "code",
   "execution_count": null,
   "metadata": {},
   "outputs": [],
   "source": [
    "# Print all sheet names\n",
    "all_sheets = pd.ExcelFile('data/business-demographics.xlsx')\n",
    "print(all_sheets.sheet_names)"
   ]
  },
  {
   "cell_type": "markdown",
   "metadata": {},
   "source": [
    "To answer our first business question we have to analyse past survival rates of businesses to find the borough in London with the highest 5-year survival rate. Thus, we will first analyse the sheets with the survival rates of businesses."
   ]
  },
  {
   "cell_type": "code",
   "execution_count": null,
   "metadata": {},
   "outputs": [],
   "source": [
    "# Read the sheets on survival rates in a dictionary\n",
    "survivalrates = {}\n",
    "    \n",
    "for i in range(2002, 2019):\n",
    "    survivalrates[str(i)] = pd.read_excel('data/business-demographics.xlsx', sheet_name= str(i) + ' Survival Rates')\n",
    "\n",
    "# Print 2002 Survival Rates\n",
    "print(survivalrates['2002'].head(5))\n",
    "\n",
    "# Print the number of rows and columns in the dataframe\n",
    "print(survivalrates['2002'].shape)\n"
   ]
  },
  {
   "cell_type": "markdown",
   "metadata": {},
   "source": [
    "At first glance, we identify several problems with the dataset and we can assume that these problems exist in all other sheets on survival rates.  \n",
    "\n",
    "Firstly, the column names are mostly unnamed, so we know the first row of the dataset contains empty values. Thus we should re-read the Excel file and skip the first row.\n"
   ]
  },
  {
   "cell_type": "code",
   "execution_count": null,
   "metadata": {},
   "outputs": [],
   "source": [
    "for i in range(2002, 2019):\n",
    "    survivalrates[str(i)] = pd.read_excel('data/business-demographics.xlsx', sheet_name= str(i) + ' Survival Rates', skiprows=1)\n",
    "\n",
    "# Print 2002 Survival Rates\n",
    "print(survivalrates['2002'].head(5))"
   ]
  },
  {
   "cell_type": "markdown",
   "metadata": {},
   "source": [
    "Secondly, we can drop the columns that represent the survival rates in numbers as the percentage of businesses contains sufficient information about the survival rates for each borough. We can also drop the 'Births' column. "
   ]
  },
  {
   "cell_type": "code",
   "execution_count": null,
   "metadata": {},
   "outputs": [],
   "source": [
    "# Removing 'Births' and the columns with survival rates in numbers \n",
    "for i in range(2002, 2019):\n",
    "    survivalrates[str(i)].drop(survivalrates[str(i)].columns[[2, 3, 5, 7, 9, 11]], axis=1, inplace=True)\n",
    "\n",
    "# Print 2002 Survival Rates\n",
    "print(survivalrates['2002'].head(5))\n",
    "\n"
   ]
  },
  {
   "cell_type": "markdown",
   "metadata": {},
   "source": [
    "Secondly, we can also rename the column names as we know from viewing the dataframe previously that the 'Per cent' columns are the survival rates in percentage for 1, 2, 3, 4 and 5 years in that order."
   ]
  },
  {
   "cell_type": "code",
   "execution_count": null,
   "metadata": {},
   "outputs": [],
   "source": [
    "# Rename columns\n",
    "for i in range(2002, 2019):\n",
    "    survivalrates[str(i)].rename(columns={'Per cent': '1 Year Survival in %', 'Per cent.1': '2 Year Survival in %', 'Per cent.2': '3 Year Survival in %','Per cent.3': '4 Year Survival in %','Per cent.4': '5 Year Survival in %',}, inplace=True)\n",
    "    \n",
    "\n",
    "print(survivalrates['2002'].head(5))\n"
   ]
  },
  {
   "cell_type": "markdown",
   "metadata": {},
   "source": [
    "Thirdly, we observe that there is an empty row at the start of the data, so we want to test if there are any other empty rows or cells in the dataset."
   ]
  },
  {
   "cell_type": "code",
   "execution_count": null,
   "metadata": {},
   "outputs": [],
   "source": [
    "# Check for missing values\n",
    "print(survivalrates['2002'].isnull().sum())\n",
    "print(survivalrates['2002'].isna().sum())\n",
    "\n",
    "missing_rows_na = survivalrates['2002'][survivalrates['2002'].isna().any(axis=1)]\n",
    "print(missing_rows_na)"
   ]
  },
  {
   "cell_type": "markdown",
   "metadata": {},
   "source": [
    "We observe that rows 0, 34, 37, 47 and 52 are empty, so we can drop these rows. To better understand the data and why there are empty rows, we can view all the data."
   ]
  },
  {
   "cell_type": "code",
   "execution_count": null,
   "metadata": {},
   "outputs": [],
   "source": [
    "# Print the whole sheet\n",
    "print(survivalrates['2002'])"
   ]
  },
  {
   "cell_type": "markdown",
   "metadata": {},
   "source": [
    "After row 33, the data is on different regions in London. As this information is already contained in the above rows which details the survival rates in different boroughs of London, we can remove the rows below 33. "
   ]
  },
  {
   "cell_type": "code",
   "execution_count": null,
   "metadata": {},
   "outputs": [],
   "source": [
    "# Remove rows with irrelevant information\n",
    "for i in range(2002, 2019):\n",
    "    survivalrates[str(i)] = survivalrates[str(i)].iloc[1:34]\n",
    "\n",
    "# Print 2002 Survival Rates\n",
    "print(survivalrates['2002'])\n"
   ]
  },
  {
   "cell_type": "markdown",
   "metadata": {},
   "source": [
    "Logically, as we know that the data in this dataset only goes up to 2019, we know that later years would not have all the data for survival rates for surviving more than a year. We need to check the other sheets as well."
   ]
  },
  {
   "cell_type": "code",
   "execution_count": null,
   "metadata": {},
   "outputs": [],
   "source": [
    "# Print the 2018 Survival Rates sheet\n",
    "print(survivalrates['2018'].head(5))"
   ]
  },
  {
   "cell_type": "markdown",
   "metadata": {},
   "source": [
    "This means we need to remove the columns with ':'."
   ]
  },
  {
   "cell_type": "code",
   "execution_count": null,
   "metadata": {},
   "outputs": [],
   "source": [
    "# Remove columns that contain ':'\n",
    "for i in range(2002, 2019):\n",
    "    survivalrates[str(i)].drop(columns = survivalrates[str(i)].columns[(survivalrates[str(i)] == ':').any()], inplace = True)\n",
    "\n",
    "print(survivalrates['2014'].head(5))"
   ]
  },
  {
   "cell_type": "markdown",
   "metadata": {},
   "source": [
    "As we are dealing with a lot of numbers, it is also important to check if the data type of each column are stored as numbers and not as strings."
   ]
  },
  {
   "cell_type": "code",
   "execution_count": null,
   "metadata": {},
   "outputs": [],
   "source": [
    "# Checking the data type of each \n",
    "print(survivalrates['2002'].info(verbose=True))"
   ]
  },
  {
   "cell_type": "markdown",
   "metadata": {},
   "source": [
    "Another sheet in the Excel file that would be relevant to answering the business question is 'Active Enterprises by year'. "
   ]
  },
  {
   "cell_type": "code",
   "execution_count": null,
   "metadata": {},
   "outputs": [],
   "source": [
    "activeenterprises = pd.read_excel('data/business-demographics.xlsx', sheet_name= 'Active Enterprises by year')\n",
    "\n",
    "print(activeenterprises)"
   ]
  },
  {
   "cell_type": "markdown",
   "metadata": {},
   "source": [
    "As the structure is similiar to that of the previous sheets with survival rates except without incorrect column names, we will perform the same data cleaning process to remove empty rows and create a new dataframe with only the relevant data. To confirm, we will also check for empty values."
   ]
  },
  {
   "cell_type": "code",
   "execution_count": null,
   "metadata": {},
   "outputs": [],
   "source": [
    "activeenterprises = activeenterprises.iloc[1:34]\n",
    "\n",
    "print(activeenterprises)"
   ]
  },
  {
   "cell_type": "code",
   "execution_count": null,
   "metadata": {},
   "outputs": [],
   "source": [
    "print(activeenterprises.isnull().sum())\n",
    "print(activeenterprises.isna().sum())"
   ]
  },
  {
   "cell_type": "code",
   "execution_count": null,
   "metadata": {},
   "outputs": [],
   "source": [
    "# Convert the headers from integers to string\n",
    "activeenterprises.columns = activeenterprises.columns.map(str)\n",
    "\n",
    "print(activeenterprises.info(verbose=True))\n"
   ]
  },
  {
   "cell_type": "markdown",
   "metadata": {},
   "source": [
    "As the births are in float, we can convert them to integers as it makes more sense based on the context of the data."
   ]
  },
  {
   "cell_type": "code",
   "execution_count": null,
   "metadata": {},
   "outputs": [],
   "source": [
    "for i in range (2002, 2020):\n",
    "    activeenterprises[str(i)] = activeenterprises[str(i)].astype(int)\n",
    "\n",
    "print(activeenterprises.head(5))"
   ]
  },
  {
   "cell_type": "markdown",
   "metadata": {},
   "source": [
    "Now, as the data is prepared, we will save the edited file as a new Excel sheet."
   ]
  },
  {
   "cell_type": "code",
   "execution_count": null,
   "metadata": {},
   "outputs": [],
   "source": [
    "# Save only the relevant sheets (maybe try diff file for each set of sheets)\n",
    "with pd.ExcelWriter('data/prepared_data.xlsx') as writer:  \n",
    "    activeenterprises.to_excel(writer, sheet_name='Active Enterprises by Year')\n",
    "    for i in range(2002, 2019):\n",
    "        survivalrates[str(i)].to_excel(writer, sheet_name= str(i) + ' Survival Rates')\n",
    "\n"
   ]
  }
 ],
 "metadata": {
  "interpreter": {
   "hash": "40d3a090f54c6569ab1632332b64b2c03c39dcf918b08424e98f38b5ae0af88f"
  },
  "kernelspec": {
   "display_name": "Python 3.8.5 64-bit ('base': conda)",
   "name": "python3"
  },
  "language_info": {
   "codemirror_mode": {
    "name": "ipython",
    "version": 3
   },
   "file_extension": ".py",
   "mimetype": "text/x-python",
   "name": "python",
   "nbconvert_exporter": "python",
   "pygments_lexer": "ipython3",
   "version": "3.8.5"
  },
  "orig_nbformat": 4
 },
 "nbformat": 4,
 "nbformat_minor": 2
}
